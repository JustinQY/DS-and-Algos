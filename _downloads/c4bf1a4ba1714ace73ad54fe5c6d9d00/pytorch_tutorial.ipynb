{
  "cells": [
    {
      "cell_type": "code",
      "execution_count": 1,
      "metadata": {
        "id": "9BuptZIVAkGy"
      },
      "outputs": [],
      "source": [
        "# For tips on running notebooks in Google Colab, see\n",
        "# https://pytorch.org/tutorials/beginner/colab\n",
        "%matplotlib inline"
      ]
    },
    {
      "cell_type": "markdown",
      "metadata": {
        "id": "NzqDAga6AkG0"
      },
      "source": [
        "Introduction to PyTorch\n",
        "=======================\n",
        "\n",
        "Introduction to Torch\\'s tensor library\n",
        "---------------------------------------\n",
        "\n",
        "All of deep learning is computations on tensors, which are\n",
        "generalizations of a matrix that can be indexed in more than 2\n",
        "dimensions. We will see exactly what this means in-depth later. First,\n",
        "let\\'s look what we can do with tensors.\n"
      ]
    },
    {
      "cell_type": "code",
      "execution_count": 2,
      "metadata": {
        "id": "HF2uqWVxAkG0",
        "outputId": "4b6086ef-1e9f-4b91-9498-a095e2f6105a",
        "colab": {
          "base_uri": "https://localhost:8080/"
        }
      },
      "outputs": [
        {
          "output_type": "execute_result",
          "data": {
            "text/plain": [
              "<torch._C.Generator at 0x7a8341d2cc90>"
            ]
          },
          "metadata": {},
          "execution_count": 2
        }
      ],
      "source": [
        "# Author: Robert Guthrie\n",
        "\n",
        "import torch\n",
        "\n",
        "torch.manual_seed(1)"
      ]
    },
    {
      "cell_type": "markdown",
      "metadata": {
        "id": "zQWh3iMUAkG0"
      },
      "source": [
        "Creating Tensors\n",
        "================\n",
        "\n",
        "Tensors can be created from Python lists with the torch.tensor()\n",
        "function.\n"
      ]
    },
    {
      "cell_type": "code",
      "execution_count": 3,
      "metadata": {
        "id": "r3wrdWs5AkG1",
        "outputId": "3d11399f-e5aa-42a5-b2c4-96af252b86c6",
        "colab": {
          "base_uri": "https://localhost:8080/"
        }
      },
      "outputs": [
        {
          "output_type": "stream",
          "name": "stdout",
          "text": [
            "tensor([1., 2., 3.])\n",
            "tensor([[1., 2., 3.],\n",
            "        [4., 5., 6.]])\n",
            "tensor([[[1., 2.],\n",
            "         [3., 4.]],\n",
            "\n",
            "        [[5., 6.],\n",
            "         [7., 8.]]])\n"
          ]
        }
      ],
      "source": [
        "# torch.tensor(data) creates a torch.Tensor object with the given data.\n",
        "V_data = [1., 2., 3.]\n",
        "V = torch.tensor(V_data)\n",
        "print(V)\n",
        "\n",
        "# Creates a matrix\n",
        "M_data = [[1., 2., 3.], [4., 5., 6]]\n",
        "M = torch.tensor(M_data)\n",
        "print(M)\n",
        "\n",
        "# Create a 3D tensor of size 2x2x2.\n",
        "T_data = [[[1., 2.], [3., 4.]],\n",
        "          [[5., 6.], [7., 8.]]]\n",
        "T = torch.tensor(T_data)\n",
        "print(T)"
      ]
    },
    {
      "cell_type": "markdown",
      "metadata": {
        "id": "vsRFAwMjAkG1"
      },
      "source": [
        "What is a 3D tensor anyway? Think about it like this. If you have a\n",
        "vector, indexing into the vector gives you a scalar. If you have a\n",
        "matrix, indexing into the matrix gives you a vector. If you have a 3D\n",
        "tensor, then indexing into the tensor gives you a matrix!\n",
        "\n",
        "A note on terminology: when I say \\\"tensor\\\" in this tutorial, it refers\n",
        "to any torch.Tensor object. Matrices and vectors are special cases of\n",
        "torch.Tensors, where their dimension is 2 and 1 respectively. When I am\n",
        "talking about 3D tensors, I will explicitly use the term \\\"3D tensor\\\".\n"
      ]
    },
    {
      "cell_type": "code",
      "execution_count": 15,
      "metadata": {
        "id": "ETa0YfELAkG1",
        "outputId": "17499c13-cc05-4869-86d9-7acb51183446",
        "colab": {
          "base_uri": "https://localhost:8080/"
        }
      },
      "outputs": [
        {
          "output_type": "stream",
          "name": "stdout",
          "text": [
            "tensor(1.)\n",
            "1.0\n",
            "tensor([1., 2., 3.])\n",
            "[1.0, 2.0, 3.0]\n",
            "torch.Size([2, 3])\n",
            "tensor([[1., 2.],\n",
            "        [3., 4.],\n",
            "        [5., 6.]])\n",
            "tensor([[1., 2., 3.],\n",
            "        [4., 5., 6.]])\n",
            "tensor([[1., 2.],\n",
            "        [3., 4.]])\n"
          ]
        }
      ],
      "source": [
        "# Index into V and get a scalar (0 dimensional tensor)\n",
        "print(V[0])\n",
        "# Get a Python number from it\n",
        "print(V[0].item())\n",
        "\n",
        "# Index into M and get a vector\n",
        "print(M[0])\n",
        "print(M[0].tolist())\n",
        "print(M.shape)\n",
        "print(M.reshape(3, 2))\n",
        "print(M)\n",
        "\n",
        "# Index into T and get a matrix\n",
        "print(T[0])"
      ]
    },
    {
      "cell_type": "markdown",
      "metadata": {
        "id": "Y1sWoMNFAkG1"
      },
      "source": [
        "You can also create tensors of other data types. To create a tensor of\n",
        "integer types, try torch.tensor(\\[\\[1, 2\\], \\[3, 4\\]\\]) (where all\n",
        "elements in the list are integers). You can also specify a data type by\n",
        "passing in `dtype=torch.data_type`. Check the documentation for more\n",
        "data types, but Float and Long will be the most common.\n"
      ]
    },
    {
      "cell_type": "markdown",
      "metadata": {
        "id": "nmPzOUcqAkG1"
      },
      "source": [
        "You can create a tensor with random data and the supplied dimensionality\n",
        "with torch.randn()\n"
      ]
    },
    {
      "cell_type": "code",
      "execution_count": 16,
      "metadata": {
        "id": "k7P2-Jh0AkG2",
        "outputId": "4e1828b9-0627-4a9d-8ec1-3629c620377e",
        "colab": {
          "base_uri": "https://localhost:8080/"
        }
      },
      "outputs": [
        {
          "output_type": "stream",
          "name": "stdout",
          "text": [
            "tensor([[[ 0.7575, -0.4068, -0.1277,  0.2804,  0.0375],\n",
            "         [-0.6378, -0.8148, -0.6895,  0.7705, -1.0739],\n",
            "         [-0.2015, -0.5603,  0.6817, -0.5170,  1.7902],\n",
            "         [ 0.5877,  0.2505, -0.7930,  0.5231,  1.2236]],\n",
            "\n",
            "        [[-0.9458, -1.3529,  3.3837, -2.4044, -0.3891],\n",
            "         [-0.0796,  0.7605, -1.0025,  0.9462,  0.3512],\n",
            "         [ 1.5728,  1.7185, -0.0594, -2.4919,  0.2423],\n",
            "         [ 0.2883, -0.1095,  0.3126,  1.5038,  0.5038]],\n",
            "\n",
            "        [[ 0.6223, -0.4481, -0.2856,  0.3880,  0.2352],\n",
            "         [ 1.9142,  1.8364,  1.3245, -0.0705,  0.3470],\n",
            "         [-0.6537,  1.5586,  0.2186, -0.5743,  1.4571],\n",
            "         [ 1.7710, -2.0173,  0.4235,  0.5730, -1.7962]]])\n",
            "torch.Size([3, 4, 5])\n"
          ]
        }
      ],
      "source": [
        "x = torch.randn((3, 4, 5))\n",
        "print(x)\n",
        "print(x.shape)"
      ]
    },
    {
      "cell_type": "code",
      "source": [],
      "metadata": {
        "id": "pAJGdQehBvkf"
      },
      "execution_count": 16,
      "outputs": []
    },
    {
      "cell_type": "markdown",
      "metadata": {
        "id": "rgpSegI0AkG2"
      },
      "source": [
        "Operations with Tensors\n",
        "=======================\n",
        "\n",
        "You can operate on tensors in the ways you would expect.\n"
      ]
    },
    {
      "cell_type": "code",
      "execution_count": 17,
      "metadata": {
        "id": "RO1OZpEAAkG2",
        "outputId": "604e7c80-75e5-405e-b8f0-7655386ef5b4",
        "colab": {
          "base_uri": "https://localhost:8080/"
        }
      },
      "outputs": [
        {
          "output_type": "stream",
          "name": "stdout",
          "text": [
            "tensor([5., 7., 9.])\n"
          ]
        }
      ],
      "source": [
        "x = torch.tensor([1., 2., 3.])\n",
        "y = torch.tensor([4., 5., 6.])\n",
        "z = x + y\n",
        "print(z)"
      ]
    },
    {
      "cell_type": "markdown",
      "metadata": {
        "id": "KWVCWrtKAkG2"
      },
      "source": [
        "See [the documentation](https://pytorch.org/docs/torch.html) for a\n",
        "complete list of the massive number of operations available to you. They\n",
        "expand beyond just mathematical operations.\n",
        "\n",
        "One helpful operation that we will make use of later is concatenation.\n"
      ]
    },
    {
      "cell_type": "code",
      "execution_count": 18,
      "metadata": {
        "id": "eV6t_FjcAkG2",
        "outputId": "00918a7b-7dd2-48d3-d4e5-551d880eade9",
        "colab": {
          "base_uri": "https://localhost:8080/"
        }
      },
      "outputs": [
        {
          "output_type": "stream",
          "name": "stdout",
          "text": [
            "tensor([[ 0.3170,  0.5629,  0.8662, -0.3528,  0.3482],\n",
            "        [ 1.1371, -0.3339, -1.4724,  0.7296, -0.1312],\n",
            "        [-0.6368,  1.0429,  0.4903,  1.0318, -0.5989],\n",
            "        [ 1.6015, -1.0735, -1.2173,  0.6472, -0.0412],\n",
            "        [-0.1775, -0.5000,  0.8673, -0.2732, -0.4608]])\n",
            "tensor([[-0.0991,  0.4728,  1.0049,  0.5652, -0.0115,  0.6706, -0.4929,  1.5050],\n",
            "        [-0.2871, -1.1619,  0.0276, -2.3264,  1.6169, -0.9026,  0.1737,  0.0772]])\n"
          ]
        }
      ],
      "source": [
        "# By default, it concatenates along the first axis (concatenates rows)\n",
        "x_1 = torch.randn(2, 5)\n",
        "y_1 = torch.randn(3, 5)\n",
        "z_1 = torch.cat([x_1, y_1])\n",
        "print(z_1)\n",
        "\n",
        "# Concatenate columns:\n",
        "x_2 = torch.randn(2, 3)\n",
        "y_2 = torch.randn(2, 5)\n",
        "# second arg specifies which axis to concat along\n",
        "z_2 = torch.cat([x_2, y_2], 1)\n",
        "print(z_2)\n",
        "\n",
        "# If your tensors are not compatible, torch will complain.  Uncomment to see the error\n",
        "# torch.cat([x_1, x_2])"
      ]
    },
    {
      "cell_type": "markdown",
      "metadata": {
        "id": "6a8i6uPHAkG2"
      },
      "source": [
        "Reshaping Tensors\n",
        "=================\n",
        "\n",
        "Use the .view() method to reshape a tensor. This method receives heavy\n",
        "use, because many neural network components expect their inputs to have\n",
        "a certain shape. Often you will need to reshape before passing your data\n",
        "to the component.\n"
      ]
    },
    {
      "cell_type": "code",
      "execution_count": 19,
      "metadata": {
        "id": "6OlCCcJTAkG2",
        "outputId": "6b32288f-398f-4398-fd2f-64222b045863",
        "colab": {
          "base_uri": "https://localhost:8080/"
        }
      },
      "outputs": [
        {
          "output_type": "stream",
          "name": "stdout",
          "text": [
            "tensor([[[-2.0043e-01, -8.3753e-01, -1.5519e+00, -5.7648e-02],\n",
            "         [-2.2775e-01, -8.6759e-01,  3.3981e-01, -1.1494e+00],\n",
            "         [-6.0679e-01, -5.2522e-01, -5.6619e-01,  6.6040e-04]],\n",
            "\n",
            "        [[ 7.2246e-01,  1.5264e-01,  1.4496e-01, -2.3442e+00],\n",
            "         [ 3.6000e-01,  4.6668e-01,  1.2831e+00,  1.2678e+00],\n",
            "         [ 1.9883e-01,  5.4409e-01, -3.9782e-01, -1.9291e+00]]])\n",
            "tensor([[-2.0043e-01, -8.3753e-01, -1.5519e+00, -5.7648e-02, -2.2775e-01,\n",
            "         -8.6759e-01,  3.3981e-01, -1.1494e+00, -6.0679e-01, -5.2522e-01,\n",
            "         -5.6619e-01,  6.6040e-04],\n",
            "        [ 7.2246e-01,  1.5264e-01,  1.4496e-01, -2.3442e+00,  3.6000e-01,\n",
            "          4.6668e-01,  1.2831e+00,  1.2678e+00,  1.9883e-01,  5.4409e-01,\n",
            "         -3.9782e-01, -1.9291e+00]])\n",
            "tensor([[-2.0043e-01, -8.3753e-01, -1.5519e+00, -5.7648e-02, -2.2775e-01,\n",
            "         -8.6759e-01,  3.3981e-01, -1.1494e+00, -6.0679e-01, -5.2522e-01,\n",
            "         -5.6619e-01,  6.6040e-04],\n",
            "        [ 7.2246e-01,  1.5264e-01,  1.4496e-01, -2.3442e+00,  3.6000e-01,\n",
            "          4.6668e-01,  1.2831e+00,  1.2678e+00,  1.9883e-01,  5.4409e-01,\n",
            "         -3.9782e-01, -1.9291e+00]])\n"
          ]
        }
      ],
      "source": [
        "x = torch.randn(2, 3, 4)\n",
        "print(x)\n",
        "print(x.view(2, 12))  # Reshape to 2 rows, 12 columns\n",
        "# Same as above.  If one of the dimensions is -1, its size can be inferred\n",
        "print(x.view(2, -1))"
      ]
    },
    {
      "cell_type": "markdown",
      "metadata": {
        "id": "skk7Tx27AkG2"
      },
      "source": [
        "Computation Graphs and Automatic Differentiation\n",
        "================================================\n",
        "\n",
        "The concept of a computation graph is essential to efficient deep\n",
        "learning programming, because it allows you to not have to write the\n",
        "back propagation gradients yourself. A computation graph is simply a\n",
        "specification of how your data is combined to give you the output. Since\n",
        "the graph totally specifies what parameters were involved with which\n",
        "operations, it contains enough information to compute derivatives. This\n",
        "probably sounds vague, so let\\'s see what is going on using the\n",
        "fundamental flag `requires_grad`.\n",
        "\n",
        "First, think from a programmers perspective. What is stored in the\n",
        "torch.Tensor objects we were creating above? Obviously the data and the\n",
        "shape, and maybe a few other things. But when we added two tensors\n",
        "together, we got an output tensor. All this output tensor knows is its\n",
        "data and shape. It has no idea that it was the sum of two other tensors\n",
        "(it could have been read in from a file, it could be the result of some\n",
        "other operation, etc.)\n",
        "\n",
        "If `requires_grad=True`, the Tensor object keeps track of how it was\n",
        "created. Let\\'s see it in action.\n"
      ]
    },
    {
      "cell_type": "code",
      "execution_count": 20,
      "metadata": {
        "id": "xFa1v7f0AkG2",
        "outputId": "1bca3fd7-93dd-415e-9312-83ebe979b498",
        "colab": {
          "base_uri": "https://localhost:8080/"
        }
      },
      "outputs": [
        {
          "output_type": "stream",
          "name": "stdout",
          "text": [
            "tensor([5., 7., 9.], grad_fn=<AddBackward0>)\n",
            "<AddBackward0 object at 0x7a825f838a60>\n"
          ]
        }
      ],
      "source": [
        "# Tensor factory methods have a ``requires_grad`` flag\n",
        "x = torch.tensor([1., 2., 3], requires_grad=True)\n",
        "\n",
        "# With requires_grad=True, you can still do all the operations you previously\n",
        "# could\n",
        "y = torch.tensor([4., 5., 6], requires_grad=True)\n",
        "z = x + y\n",
        "print(z)\n",
        "\n",
        "# BUT z knows something extra.\n",
        "print(z.grad_fn)"
      ]
    },
    {
      "cell_type": "markdown",
      "metadata": {
        "id": "gcZ2v_mSAkG2"
      },
      "source": [
        "So Tensors know what created them. z knows that it wasn\\'t read in from\n",
        "a file, it wasn\\'t the result of a multiplication or exponential or\n",
        "whatever. And if you keep following z.grad\\_fn, you will find yourself\n",
        "at x and y.\n",
        "\n",
        "But how does that help us compute a gradient?\n"
      ]
    },
    {
      "cell_type": "code",
      "execution_count": 21,
      "metadata": {
        "id": "c8hKV0xZAkG2",
        "outputId": "2595ef39-3db0-42ec-e53c-0312e8118c08",
        "colab": {
          "base_uri": "https://localhost:8080/"
        }
      },
      "outputs": [
        {
          "output_type": "stream",
          "name": "stdout",
          "text": [
            "tensor(21., grad_fn=<SumBackward0>)\n",
            "<SumBackward0 object at 0x7a825f83b340>\n"
          ]
        }
      ],
      "source": [
        "# Let's sum up all the entries in z\n",
        "s = z.sum()\n",
        "print(s)\n",
        "print(s.grad_fn)"
      ]
    },
    {
      "cell_type": "markdown",
      "metadata": {
        "id": "nFFh0w4fAkG2"
      },
      "source": [
        "So now, what is the derivative of this sum with respect to the first\n",
        "component of x? In math, we want\n",
        "\n",
        "$$\\frac{\\partial s}{\\partial x_0}$$\n",
        "\n",
        "Well, s knows that it was created as a sum of the tensor z. z knows that\n",
        "it was the sum x + y. So\n",
        "\n",
        "$$s = \\overbrace{x_0 + y_0}^\\text{$z_0$} + \\overbrace{x_1 + y_1}^\\text{$z_1$} + \\overbrace{x_2 + y_2}^\\text{$z_2$}$$\n",
        "\n",
        "And so s contains enough information to determine that the derivative we\n",
        "want is 1!\n",
        "\n",
        "Of course this glosses over the challenge of how to actually compute\n",
        "that derivative. The point here is that s is carrying along enough\n",
        "information that it is possible to compute it. In reality, the\n",
        "developers of Pytorch program the sum() and + operations to know how to\n",
        "compute their gradients, and run the back propagation algorithm. An\n",
        "in-depth discussion of that algorithm is beyond the scope of this\n",
        "tutorial.\n"
      ]
    },
    {
      "cell_type": "markdown",
      "metadata": {
        "id": "Hokz2mvdAkG2"
      },
      "source": [
        "Let\\'s have Pytorch compute the gradient, and see that we were right:\n",
        "(note if you run this block multiple times, the gradient will increment.\n",
        "That is because Pytorch *accumulates* the gradient into the .grad\n",
        "property, since for many models this is very convenient.)\n"
      ]
    },
    {
      "cell_type": "code",
      "execution_count": 23,
      "metadata": {
        "id": "Rgw4-hLHAkG2",
        "outputId": "5763405d-176d-484b-9c23-00b088eb46d9",
        "colab": {
          "base_uri": "https://localhost:8080/"
        }
      },
      "outputs": [
        {
          "output_type": "stream",
          "name": "stdout",
          "text": [
            "tensor([2., 2., 2.])\n"
          ]
        }
      ],
      "source": [
        "# calling .backward() on any variable will run backprop, starting from it.\n",
        "s.backward()\n",
        "print(x.grad)"
      ]
    },
    {
      "cell_type": "markdown",
      "metadata": {
        "id": "Z1szNGedAkG2"
      },
      "source": [
        "Understanding what is going on in the block below is crucial for being a\n",
        "successful programmer in deep learning.\n"
      ]
    },
    {
      "cell_type": "code",
      "execution_count": 27,
      "metadata": {
        "id": "XxGdz1HSAkG2",
        "outputId": "b3227502-17df-4475-8fb9-dde0d26678f3",
        "colab": {
          "base_uri": "https://localhost:8080/"
        }
      },
      "outputs": [
        {
          "output_type": "stream",
          "name": "stdout",
          "text": [
            "False False\n",
            "None\n",
            "None\n",
            "<AddBackward0 object at 0x7a825f4d1e10>\n",
            "True\n",
            "None\n"
          ]
        }
      ],
      "source": [
        "x = torch.randn(2, 2)\n",
        "y = torch.randn(2, 2)\n",
        "# By default, user created Tensors have ``requires_grad=False``\n",
        "print(x.requires_grad, y.requires_grad)\n",
        "z = x + y\n",
        "# So you can't backprop through z\n",
        "print(z.grad_fn)\n",
        "\n",
        "# ``.requires_grad_( ... )`` changes an existing Tensor's ``requires_grad``\n",
        "# flag in-place. The input flag defaults to ``True`` if not given.\n",
        "x = x.requires_grad_()\n",
        "y = y.requires_grad_()\n",
        "print(x.grad_fn)\n",
        "# z contains enough information to compute gradients, as we saw above\n",
        "z = x + y\n",
        "print(z.grad_fn)\n",
        "# If any input to an operation has ``requires_grad=True``, so will the output\n",
        "print(z.requires_grad)\n",
        "\n",
        "# Now z has the computation history that relates itself to x and y\n",
        "# Can we just take its values, and **detach** it from its history?\n",
        "new_z = z.detach()\n",
        "\n",
        "# ... does new_z have information to backprop to x and y?\n",
        "# NO!\n",
        "print(new_z.grad_fn)\n",
        "# And how could it? ``z.detach()`` returns a tensor that shares the same storage\n",
        "# as ``z``, but with the computation history forgotten. It doesn't know anything\n",
        "# about how it was computed.\n",
        "# In essence, we have broken the Tensor away from its past history"
      ]
    },
    {
      "cell_type": "markdown",
      "metadata": {
        "id": "w-Dv2BOLAkG2"
      },
      "source": [
        "You can also stop autograd from tracking history on Tensors with\n",
        "`.requires_grad=True` by wrapping the code block in\n",
        "`with torch.no_grad():`\n"
      ]
    },
    {
      "cell_type": "code",
      "execution_count": 28,
      "metadata": {
        "id": "W5MekrPSAkG3",
        "outputId": "10b77523-d4d7-4032-b89c-b1a22cd6581b",
        "colab": {
          "base_uri": "https://localhost:8080/"
        }
      },
      "outputs": [
        {
          "output_type": "stream",
          "name": "stdout",
          "text": [
            "True\n",
            "True\n",
            "False\n"
          ]
        }
      ],
      "source": [
        "print(x.requires_grad)\n",
        "print((x ** 2).requires_grad)\n",
        "\n",
        "with torch.no_grad():\n",
        "\tprint((x ** 2).requires_grad)"
      ]
    },
    {
      "cell_type": "code",
      "source": [],
      "metadata": {
        "id": "sLLModymEr0-"
      },
      "execution_count": null,
      "outputs": []
    }
  ],
  "metadata": {
    "kernelspec": {
      "display_name": "Python 3",
      "language": "python",
      "name": "python3"
    },
    "language_info": {
      "codemirror_mode": {
        "name": "ipython",
        "version": 3
      },
      "file_extension": ".py",
      "mimetype": "text/x-python",
      "name": "python",
      "nbconvert_exporter": "python",
      "pygments_lexer": "ipython3",
      "version": "3.10.12"
    },
    "colab": {
      "provenance": []
    }
  },
  "nbformat": 4,
  "nbformat_minor": 0
}